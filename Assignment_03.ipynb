{
 "cells": [
  {
   "cell_type": "code",
   "execution_count": 88,
   "metadata": {
    "id": "9vtMV9yAjKxl"
   },
   "outputs": [],
   "source": [
    "import pandas as pd\n",
    "import numpy as np\n",
    "# import missingno as ms\n",
    "import scipy.optimize as opt\n",
    "import sklearn.cluster as cluster\n",
    "\n",
    "import matplotlib.pyplot as plt\n",
    "%matplotlib inline\n",
    "import itertools as iter\n",
    "\n",
    "\n",
    "import warnings\n",
    "warnings.filterwarnings(\"ignore\")"
   ]
  },
  {
   "cell_type": "markdown",
   "metadata": {
    "id": "Ysjw0k_xp1Xd"
   },
   "source": [
    "# Data Preprocessing"
   ]
  },
  {
   "cell_type": "markdown",
   "metadata": {
    "id": "PMEiHUVbp5_U"
   },
   "source": [
    "#### Transpose of the data"
   ]
  },
  {
   "cell_type": "code",
   "execution_count": 9,
   "metadata": {
    "colab": {
     "base_uri": "https://localhost:8080/",
     "height": 418
    },
    "id": "79XhghxOjQ2_",
    "outputId": "51ac25f9-5ce1-4ae5-f214-f8dd7055c805"
   },
   "outputs": [
    {
     "data": {
      "text/html": [
       "\n",
       "  <div id=\"df-52e037ed-c991-4fff-a0b2-a19603ec3d75\">\n",
       "    <div class=\"colab-df-container\">\n",
       "      <div>\n",
       "<style scoped>\n",
       "    .dataframe tbody tr th:only-of-type {\n",
       "        vertical-align: middle;\n",
       "    }\n",
       "\n",
       "    .dataframe tbody tr th {\n",
       "        vertical-align: top;\n",
       "    }\n",
       "\n",
       "    .dataframe thead th {\n",
       "        text-align: right;\n",
       "    }\n",
       "</style>\n",
       "<table border=\"1\" class=\"dataframe\">\n",
       "  <thead>\n",
       "    <tr style=\"text-align: right;\">\n",
       "      <th></th>\n",
       "      <th>0</th>\n",
       "      <th>1</th>\n",
       "      <th>2</th>\n",
       "      <th>3</th>\n",
       "      <th>4</th>\n",
       "      <th>5</th>\n",
       "      <th>6</th>\n",
       "      <th>7</th>\n",
       "      <th>8</th>\n",
       "      <th>9</th>\n",
       "      <th>...</th>\n",
       "      <th>147579</th>\n",
       "      <th>147580</th>\n",
       "      <th>147581</th>\n",
       "      <th>147582</th>\n",
       "      <th>147583</th>\n",
       "      <th>147584</th>\n",
       "      <th>147585</th>\n",
       "      <th>147586</th>\n",
       "      <th>147587</th>\n",
       "      <th>147588</th>\n",
       "    </tr>\n",
       "  </thead>\n",
       "  <tbody>\n",
       "    <tr>\n",
       "      <th>CountryName</th>\n",
       "      <td>Arab World</td>\n",
       "      <td>Arab World</td>\n",
       "      <td>Arab World</td>\n",
       "      <td>Arab World</td>\n",
       "      <td>Arab World</td>\n",
       "      <td>Arab World</td>\n",
       "      <td>Arab World</td>\n",
       "      <td>Arab World</td>\n",
       "      <td>Arab World</td>\n",
       "      <td>Arab World</td>\n",
       "      <td>...</td>\n",
       "      <td>Dominican Republic</td>\n",
       "      <td>Dominican Republic</td>\n",
       "      <td>Dominican Republic</td>\n",
       "      <td>Dominican Republic</td>\n",
       "      <td>Dominican Republic</td>\n",
       "      <td>Dominican Republic</td>\n",
       "      <td>Dominican Republic</td>\n",
       "      <td>Dominican Republic</td>\n",
       "      <td>Dominican Republic</td>\n",
       "      <td>Dominican Republic</td>\n",
       "    </tr>\n",
       "    <tr>\n",
       "      <th>CountryCode</th>\n",
       "      <td>ARB</td>\n",
       "      <td>ARB</td>\n",
       "      <td>ARB</td>\n",
       "      <td>ARB</td>\n",
       "      <td>ARB</td>\n",
       "      <td>ARB</td>\n",
       "      <td>ARB</td>\n",
       "      <td>ARB</td>\n",
       "      <td>ARB</td>\n",
       "      <td>ARB</td>\n",
       "      <td>...</td>\n",
       "      <td>DOM</td>\n",
       "      <td>DOM</td>\n",
       "      <td>DOM</td>\n",
       "      <td>DOM</td>\n",
       "      <td>DOM</td>\n",
       "      <td>DOM</td>\n",
       "      <td>DOM</td>\n",
       "      <td>DOM</td>\n",
       "      <td>DOM</td>\n",
       "      <td>DOM</td>\n",
       "    </tr>\n",
       "    <tr>\n",
       "      <th>IndicatorName</th>\n",
       "      <td>Adolescent fertility rate (births per 1,000 wo...</td>\n",
       "      <td>Age dependency ratio (% of working-age populat...</td>\n",
       "      <td>Age dependency ratio, old (% of working-age po...</td>\n",
       "      <td>Age dependency ratio, young (% of working-age ...</td>\n",
       "      <td>Arms exports (SIPRI trend indicator values)</td>\n",
       "      <td>Arms imports (SIPRI trend indicator values)</td>\n",
       "      <td>Birth rate, crude (per 1,000 people)</td>\n",
       "      <td>CO2 emissions (kt)</td>\n",
       "      <td>CO2 emissions (metric tons per capita)</td>\n",
       "      <td>CO2 emissions from gaseous fuel consumption (%...</td>\n",
       "      <td>...</td>\n",
       "      <td>CO2 emissions from liquid fuel consumption (% ...</td>\n",
       "      <td>CO2 emissions from liquid fuel consumption (kt)</td>\n",
       "      <td>CO2 emissions from solid fuel consumption (% o...</td>\n",
       "      <td>CO2 emissions from solid fuel consumption (kt)</td>\n",
       "      <td>Consumer price index (2010 = 100)</td>\n",
       "      <td>Crop production index (2004-2006 = 100)</td>\n",
       "      <td>Death rate, crude (per 1,000 people)</td>\n",
       "      <td>DEC alternative conversion factor (LCU per US$)</td>\n",
       "      <td>Discrepancy in expenditure estimate of GDP (co...</td>\n",
       "      <td>Discrepancy i</td>\n",
       "    </tr>\n",
       "    <tr>\n",
       "      <th>IndicatorCode</th>\n",
       "      <td>SP.ADO.TFRT</td>\n",
       "      <td>SP.POP.DPND</td>\n",
       "      <td>SP.POP.DPND.OL</td>\n",
       "      <td>SP.POP.DPND.YG</td>\n",
       "      <td>MS.MIL.XPRT.KD</td>\n",
       "      <td>MS.MIL.MPRT.KD</td>\n",
       "      <td>SP.DYN.CBRT.IN</td>\n",
       "      <td>EN.ATM.CO2E.KT</td>\n",
       "      <td>EN.ATM.CO2E.PC</td>\n",
       "      <td>EN.ATM.CO2E.GF.ZS</td>\n",
       "      <td>...</td>\n",
       "      <td>EN.ATM.CO2E.LF.ZS</td>\n",
       "      <td>EN.ATM.CO2E.LF.KT</td>\n",
       "      <td>EN.ATM.CO2E.SF.ZS</td>\n",
       "      <td>EN.ATM.CO2E.SF.KT</td>\n",
       "      <td>FP.CPI.TOTL</td>\n",
       "      <td>AG.PRD.CROP.XD</td>\n",
       "      <td>SP.DYN.CDRT.IN</td>\n",
       "      <td>PA.NUS.ATLS</td>\n",
       "      <td>NY.GDP.DISC.KN</td>\n",
       "      <td>NaN</td>\n",
       "    </tr>\n",
       "    <tr>\n",
       "      <th>Year</th>\n",
       "      <td>1960.0</td>\n",
       "      <td>1960.0</td>\n",
       "      <td>1960.0</td>\n",
       "      <td>1960.0</td>\n",
       "      <td>1960.0</td>\n",
       "      <td>1960.0</td>\n",
       "      <td>1960.0</td>\n",
       "      <td>1960.0</td>\n",
       "      <td>1960.0</td>\n",
       "      <td>1960.0</td>\n",
       "      <td>...</td>\n",
       "      <td>1965.0</td>\n",
       "      <td>1965.0</td>\n",
       "      <td>1965.0</td>\n",
       "      <td>1965.0</td>\n",
       "      <td>1965.0</td>\n",
       "      <td>1965.0</td>\n",
       "      <td>1965.0</td>\n",
       "      <td>1965.0</td>\n",
       "      <td>1965.0</td>\n",
       "      <td>NaN</td>\n",
       "    </tr>\n",
       "    <tr>\n",
       "      <th>Value</th>\n",
       "      <td>133.560907</td>\n",
       "      <td>87.797601</td>\n",
       "      <td>6.634579</td>\n",
       "      <td>81.02333</td>\n",
       "      <td>3000000.0</td>\n",
       "      <td>538000000.0</td>\n",
       "      <td>47.697888</td>\n",
       "      <td>59563.989217</td>\n",
       "      <td>0.643964</td>\n",
       "      <td>5.041292</td>\n",
       "      <td>...</td>\n",
       "      <td>93.127962</td>\n",
       "      <td>1441.131</td>\n",
       "      <td>0.236967</td>\n",
       "      <td>3.667</td>\n",
       "      <td>0.518677</td>\n",
       "      <td>64.47</td>\n",
       "      <td>13.123</td>\n",
       "      <td>1.0</td>\n",
       "      <td>0.0</td>\n",
       "      <td>NaN</td>\n",
       "    </tr>\n",
       "  </tbody>\n",
       "</table>\n",
       "<p>6 rows × 147589 columns</p>\n",
       "</div>\n",
       "      <button class=\"colab-df-convert\" onclick=\"convertToInteractive('df-52e037ed-c991-4fff-a0b2-a19603ec3d75')\"\n",
       "              title=\"Convert this dataframe to an interactive table.\"\n",
       "              style=\"display:none;\">\n",
       "        \n",
       "  <svg xmlns=\"http://www.w3.org/2000/svg\" height=\"24px\"viewBox=\"0 0 24 24\"\n",
       "       width=\"24px\">\n",
       "    <path d=\"M0 0h24v24H0V0z\" fill=\"none\"/>\n",
       "    <path d=\"M18.56 5.44l.94 2.06.94-2.06 2.06-.94-2.06-.94-.94-2.06-.94 2.06-2.06.94zm-11 1L8.5 8.5l.94-2.06 2.06-.94-2.06-.94L8.5 2.5l-.94 2.06-2.06.94zm10 10l.94 2.06.94-2.06 2.06-.94-2.06-.94-.94-2.06-.94 2.06-2.06.94z\"/><path d=\"M17.41 7.96l-1.37-1.37c-.4-.4-.92-.59-1.43-.59-.52 0-1.04.2-1.43.59L10.3 9.45l-7.72 7.72c-.78.78-.78 2.05 0 2.83L4 21.41c.39.39.9.59 1.41.59.51 0 1.02-.2 1.41-.59l7.78-7.78 2.81-2.81c.8-.78.8-2.07 0-2.86zM5.41 20L4 18.59l7.72-7.72 1.47 1.35L5.41 20z\"/>\n",
       "  </svg>\n",
       "      </button>\n",
       "      \n",
       "  <style>\n",
       "    .colab-df-container {\n",
       "      display:flex;\n",
       "      flex-wrap:wrap;\n",
       "      gap: 12px;\n",
       "    }\n",
       "\n",
       "    .colab-df-convert {\n",
       "      background-color: #E8F0FE;\n",
       "      border: none;\n",
       "      border-radius: 50%;\n",
       "      cursor: pointer;\n",
       "      display: none;\n",
       "      fill: #1967D2;\n",
       "      height: 32px;\n",
       "      padding: 0 0 0 0;\n",
       "      width: 32px;\n",
       "    }\n",
       "\n",
       "    .colab-df-convert:hover {\n",
       "      background-color: #E2EBFA;\n",
       "      box-shadow: 0px 1px 2px rgba(60, 64, 67, 0.3), 0px 1px 3px 1px rgba(60, 64, 67, 0.15);\n",
       "      fill: #174EA6;\n",
       "    }\n",
       "\n",
       "    [theme=dark] .colab-df-convert {\n",
       "      background-color: #3B4455;\n",
       "      fill: #D2E3FC;\n",
       "    }\n",
       "\n",
       "    [theme=dark] .colab-df-convert:hover {\n",
       "      background-color: #434B5C;\n",
       "      box-shadow: 0px 1px 3px 1px rgba(0, 0, 0, 0.15);\n",
       "      filter: drop-shadow(0px 1px 2px rgba(0, 0, 0, 0.3));\n",
       "      fill: #FFFFFF;\n",
       "    }\n",
       "  </style>\n",
       "\n",
       "      <script>\n",
       "        const buttonEl =\n",
       "          document.querySelector('#df-52e037ed-c991-4fff-a0b2-a19603ec3d75 button.colab-df-convert');\n",
       "        buttonEl.style.display =\n",
       "          google.colab.kernel.accessAllowed ? 'block' : 'none';\n",
       "\n",
       "        async function convertToInteractive(key) {\n",
       "          const element = document.querySelector('#df-52e037ed-c991-4fff-a0b2-a19603ec3d75');\n",
       "          const dataTable =\n",
       "            await google.colab.kernel.invokeFunction('convertToInteractive',\n",
       "                                                     [key], {});\n",
       "          if (!dataTable) return;\n",
       "\n",
       "          const docLinkHtml = 'Like what you see? Visit the ' +\n",
       "            '<a target=\"_blank\" href=https://colab.research.google.com/notebooks/data_table.ipynb>data table notebook</a>'\n",
       "            + ' to learn more about interactive tables.';\n",
       "          element.innerHTML = '';\n",
       "          dataTable['output_type'] = 'display_data';\n",
       "          await google.colab.output.renderOutput(dataTable, element);\n",
       "          const docLink = document.createElement('div');\n",
       "          docLink.innerHTML = docLinkHtml;\n",
       "          element.appendChild(docLink);\n",
       "        }\n",
       "      </script>\n",
       "    </div>\n",
       "  </div>\n",
       "  "
      ],
      "text/plain": [
       "                                                          0       \\\n",
       "CountryName                                           Arab World   \n",
       "CountryCode                                                  ARB   \n",
       "IndicatorName  Adolescent fertility rate (births per 1,000 wo...   \n",
       "IndicatorCode                                        SP.ADO.TFRT   \n",
       "Year                                                      1960.0   \n",
       "Value                                                 133.560907   \n",
       "\n",
       "                                                          1       \\\n",
       "CountryName                                           Arab World   \n",
       "CountryCode                                                  ARB   \n",
       "IndicatorName  Age dependency ratio (% of working-age populat...   \n",
       "IndicatorCode                                        SP.POP.DPND   \n",
       "Year                                                      1960.0   \n",
       "Value                                                  87.797601   \n",
       "\n",
       "                                                          2       \\\n",
       "CountryName                                           Arab World   \n",
       "CountryCode                                                  ARB   \n",
       "IndicatorName  Age dependency ratio, old (% of working-age po...   \n",
       "IndicatorCode                                     SP.POP.DPND.OL   \n",
       "Year                                                      1960.0   \n",
       "Value                                                   6.634579   \n",
       "\n",
       "                                                          3       \\\n",
       "CountryName                                           Arab World   \n",
       "CountryCode                                                  ARB   \n",
       "IndicatorName  Age dependency ratio, young (% of working-age ...   \n",
       "IndicatorCode                                     SP.POP.DPND.YG   \n",
       "Year                                                      1960.0   \n",
       "Value                                                   81.02333   \n",
       "\n",
       "                                                    4       \\\n",
       "CountryName                                     Arab World   \n",
       "CountryCode                                            ARB   \n",
       "IndicatorName  Arms exports (SIPRI trend indicator values)   \n",
       "IndicatorCode                               MS.MIL.XPRT.KD   \n",
       "Year                                                1960.0   \n",
       "Value                                            3000000.0   \n",
       "\n",
       "                                                    5       \\\n",
       "CountryName                                     Arab World   \n",
       "CountryCode                                            ARB   \n",
       "IndicatorName  Arms imports (SIPRI trend indicator values)   \n",
       "IndicatorCode                               MS.MIL.MPRT.KD   \n",
       "Year                                                1960.0   \n",
       "Value                                          538000000.0   \n",
       "\n",
       "                                             6                   7       \\\n",
       "CountryName                              Arab World          Arab World   \n",
       "CountryCode                                     ARB                 ARB   \n",
       "IndicatorName  Birth rate, crude (per 1,000 people)  CO2 emissions (kt)   \n",
       "IndicatorCode                        SP.DYN.CBRT.IN      EN.ATM.CO2E.KT   \n",
       "Year                                         1960.0              1960.0   \n",
       "Value                                     47.697888        59563.989217   \n",
       "\n",
       "                                               8       \\\n",
       "CountryName                                Arab World   \n",
       "CountryCode                                       ARB   \n",
       "IndicatorName  CO2 emissions (metric tons per capita)   \n",
       "IndicatorCode                          EN.ATM.CO2E.PC   \n",
       "Year                                           1960.0   \n",
       "Value                                        0.643964   \n",
       "\n",
       "                                                          9       ...  \\\n",
       "CountryName                                           Arab World  ...   \n",
       "CountryCode                                                  ARB  ...   \n",
       "IndicatorName  CO2 emissions from gaseous fuel consumption (%...  ...   \n",
       "IndicatorCode                                  EN.ATM.CO2E.GF.ZS  ...   \n",
       "Year                                                      1960.0  ...   \n",
       "Value                                                   5.041292  ...   \n",
       "\n",
       "                                                          147579  \\\n",
       "CountryName                                   Dominican Republic   \n",
       "CountryCode                                                  DOM   \n",
       "IndicatorName  CO2 emissions from liquid fuel consumption (% ...   \n",
       "IndicatorCode                                  EN.ATM.CO2E.LF.ZS   \n",
       "Year                                                      1965.0   \n",
       "Value                                                  93.127962   \n",
       "\n",
       "                                                        147580  \\\n",
       "CountryName                                 Dominican Republic   \n",
       "CountryCode                                                DOM   \n",
       "IndicatorName  CO2 emissions from liquid fuel consumption (kt)   \n",
       "IndicatorCode                                EN.ATM.CO2E.LF.KT   \n",
       "Year                                                    1965.0   \n",
       "Value                                                 1441.131   \n",
       "\n",
       "                                                          147581  \\\n",
       "CountryName                                   Dominican Republic   \n",
       "CountryCode                                                  DOM   \n",
       "IndicatorName  CO2 emissions from solid fuel consumption (% o...   \n",
       "IndicatorCode                                  EN.ATM.CO2E.SF.ZS   \n",
       "Year                                                      1965.0   \n",
       "Value                                                   0.236967   \n",
       "\n",
       "                                                       147582  \\\n",
       "CountryName                                Dominican Republic   \n",
       "CountryCode                                               DOM   \n",
       "IndicatorName  CO2 emissions from solid fuel consumption (kt)   \n",
       "IndicatorCode                               EN.ATM.CO2E.SF.KT   \n",
       "Year                                                   1965.0   \n",
       "Value                                                   3.667   \n",
       "\n",
       "                                          147583  \\\n",
       "CountryName                   Dominican Republic   \n",
       "CountryCode                                  DOM   \n",
       "IndicatorName  Consumer price index (2010 = 100)   \n",
       "IndicatorCode                        FP.CPI.TOTL   \n",
       "Year                                      1965.0   \n",
       "Value                                   0.518677   \n",
       "\n",
       "                                                147584  \\\n",
       "CountryName                         Dominican Republic   \n",
       "CountryCode                                        DOM   \n",
       "IndicatorName  Crop production index (2004-2006 = 100)   \n",
       "IndicatorCode                           AG.PRD.CROP.XD   \n",
       "Year                                            1965.0   \n",
       "Value                                            64.47   \n",
       "\n",
       "                                             147585  \\\n",
       "CountryName                      Dominican Republic   \n",
       "CountryCode                                     DOM   \n",
       "IndicatorName  Death rate, crude (per 1,000 people)   \n",
       "IndicatorCode                        SP.DYN.CDRT.IN   \n",
       "Year                                         1965.0   \n",
       "Value                                        13.123   \n",
       "\n",
       "                                                        147586  \\\n",
       "CountryName                                 Dominican Republic   \n",
       "CountryCode                                                DOM   \n",
       "IndicatorName  DEC alternative conversion factor (LCU per US$)   \n",
       "IndicatorCode                                      PA.NUS.ATLS   \n",
       "Year                                                    1965.0   \n",
       "Value                                                      1.0   \n",
       "\n",
       "                                                          147587  \\\n",
       "CountryName                                   Dominican Republic   \n",
       "CountryCode                                                  DOM   \n",
       "IndicatorName  Discrepancy in expenditure estimate of GDP (co...   \n",
       "IndicatorCode                                     NY.GDP.DISC.KN   \n",
       "Year                                                      1965.0   \n",
       "Value                                                        0.0   \n",
       "\n",
       "                           147588  \n",
       "CountryName    Dominican Republic  \n",
       "CountryCode                   DOM  \n",
       "IndicatorName       Discrepancy i  \n",
       "IndicatorCode                 NaN  \n",
       "Year                          NaN  \n",
       "Value                         NaN  \n",
       "\n",
       "[6 rows x 147589 columns]"
      ]
     },
     "execution_count": 9,
     "metadata": {},
     "output_type": "execute_result"
    }
   ],
   "source": [
    "def function_transpose(file):\n",
    "    data=pd.read_csv(file)\n",
    "    data=data.T\n",
    "    return data\n",
    "    \n",
    "file = '/content/Indicators.csv'\n",
    "function_transpose(file)"
   ]
  },
  {
   "cell_type": "code",
   "execution_count": null,
   "metadata": {
    "id": "EH5VDA7_tlNv"
   },
   "outputs": [],
   "source": [
    "data.IndicatorName.unique()"
   ]
  },
  {
   "cell_type": "markdown",
   "metadata": {
    "id": "yA1g8MR2ohyH"
   },
   "source": [
    "#### Sample Selection for the Import and Export form the all attributes related to development "
   ]
  },
  {
   "cell_type": "code",
   "execution_count": 43,
   "metadata": {
    "id": "NMorwsfHlfJI"
   },
   "outputs": [],
   "source": [
    "def Sample_Selection(data, Indicator):\n",
    "  X_data = data[['Year','Value']][data['IndicatorName'] ==  'GDP growth (annual %)']\n",
    "  X_data=  X_data.rename(columns={\"Value\": \"GDP growth (annual %)\"})\n",
    "  X_data['Year'] = X_data['Year'].astype('int')\n",
    "\n",
    "  Y_data = data[['Year','Value']][data['IndicatorName'] ==  Indicator]\n",
    "  Y_data= Y_data.rename(columns={\"Value\": Indicator})\n",
    "  Y_data['Year'] = Y_data['Year'].astype('int')\n",
    "\n",
    "\n",
    "  return pd.merge(X_data,Y_data,on='Year')\n",
    "\n",
    "data = pd.read_csv('/content/Indicators.csv')\n",
    "GDP_Export = Sample_Selection(data , 'Exports of goods and services (annual % growth)')\n",
    "GDP_import = Sample_Selection(data , 'Imports of goods and services (annual % growth)')"
   ]
  },
  {
   "cell_type": "markdown",
   "metadata": {
    "id": "0wwu3XYB0FaV"
   },
   "source": [
    "## Normalize Dataset"
   ]
  },
  {
   "cell_type": "code",
   "execution_count": 59,
   "metadata": {
    "id": "LwBalCMB0ZEs"
   },
   "outputs": [],
   "source": [
    "def Normalize_Data(GDP_Export,GDP_import):\n",
    "  \n",
    "  GDP_Export['Exports of goods and services (annual % growth)']=(GDP_Export['Exports of goods and services (annual % growth)']-GDP_Export['Exports of goods and services (annual % growth)'].mean())/GDP_Export['Exports of goods and services (annual % growth)'].std()\n",
    "  GDP_Export['GDP growth (annual %)']=(GDP_Export['GDP growth (annual %)']-GDP_Export['GDP growth (annual %)'].mean())/GDP_Export['GDP growth (annual %)'].std()\n",
    "  \n",
    "  GDP_import['Imports of goods and services (annual % growth)']=(GDP_import['Imports of goods and services (annual % growth)']-GDP_import['Imports of goods and services (annual % growth)'].mean())/GDP_import['Imports of goods and services (annual % growth)'].std()\n",
    "  GDP_import['GDP growth (annual %)']=(GDP_import['GDP growth (annual %)']-GDP_import['GDP growth (annual %)'].mean())/GDP_import['GDP growth (annual %)'].std()\n",
    "\n",
    "Normalize_Data(GDP_Export,GDP_import)"
   ]
  },
  {
   "cell_type": "markdown",
   "metadata": {
    "id": "j6GZGAmoqGto"
   },
   "source": [
    "#### Visualize the Target data for final decision"
   ]
  },
  {
   "cell_type": "code",
   "execution_count": 60,
   "metadata": {
    "colab": {
     "base_uri": "https://localhost:8080/",
     "height": 651
    },
    "id": "FDLlNJsKnvBI",
    "outputId": "8629efd4-ab13-410e-9bfd-21c3bf80924f"
   },
   "outputs": [
    {
     "data": {
      "image/png": "[encoded data removed]",
      "text/plain": [
       "<Figure size 360x360 with 1 Axes>"
      ]
     },
     "metadata": {
      "needs_background": "light"
     },
     "output_type": "display_data"
    },
    {
     "data": {
      "image/png": "[encoded data removed]",
      "text/plain": [
       "<Figure size 360x360 with 1 Axes>"
      ]
     },
     "metadata": {
      "needs_background": "light"
     },
     "output_type": "display_data"
    }
   ],
   "source": [
    "def plot_GDP(df, col1, col2):\n",
    "    plt.figure(figsize=(5.0,5.0))\n",
    "    plt.plot(df[col1], df[col2], \"o\", markersize=3)\n",
    "    plt.xlabel(col1)\n",
    "    plt.ylabel(col2)\n",
    "    plt.show()\n",
    "\n",
    "\n",
    "plot_GDP(GDP_Export,'GDP growth (annual %)','Exports of goods and services (annual % growth)')\n",
    "plot_GDP(GDP_import,'GDP growth (annual %)','Imports of goods and services (annual % growth)')"
   ]
  },
  {
   "cell_type": "markdown",
   "metadata": {
    "id": "knXMi8pRz9aA"
   },
   "source": [
    "# K Mean Clustering on both Dataset"
   ]
  },
  {
   "cell_type": "code",
   "execution_count": 63,
   "metadata": {
    "colab": {
     "base_uri": "https://localhost:8080/",
     "height": 621
    },
    "id": "a--xjElSn9BP",
    "outputId": "cf7c80b7-af8c-4fae-c7d1-f19eb3701912"
   },
   "outputs": [
    {
     "data": {
      "image/png": "[encoded data removed]",
      "text/plain": [
       "<Figure size 720x720 with 1 Axes>"
      ]
     },
     "metadata": {
      "needs_background": "light"
     },
     "output_type": "display_data"
    }
   ],
   "source": [
    "####### kmeans set up the clusterer, 4 expected clusters\n",
    "kmeans = cluster.KMeans(n_clusters=3)\n",
    "\n",
    "# extract columns for fitting\n",
    "kmeans.fit(GDP_Export[['GDP growth (annual %)','Exports of goods and services (annual % growth)']])     \n",
    "\n",
    "# extract labels and cluster centres\n",
    "labels = kmeans.labels_\n",
    "cen = kmeans.cluster_centers_\n",
    "\n",
    "# plot using the labels to select colour\n",
    "plt.figure(figsize=(10,10))\n",
    "\n",
    "col = [\"blue\", \"red\", \"green\", \"magenta\", \"yellow\", \"red\"]\n",
    "for l in range(3):     # loop over the different labels\n",
    "    plt.plot(GDP_Export['GDP growth (annual %)'][labels==l], GDP_Export['Exports of goods and services (annual % growth)'][labels==l], \"o\", markersize=3, color=col[l])\n",
    "    \n",
    "# Center of the clusters\n",
    "for ic in range(3):\n",
    "    xc, yc = cen[ic,:]\n",
    "    plt.plot(xc, yc, \"dk\", markersize=10)\n",
    "\n",
    "plt.title(\"Kmeans Clustering\")    \n",
    "plt.xlabel(\"GDP growth (annual %)\")\n",
    "plt.ylabel(\"Exports of goods and services\")\n",
    "plt.show()"
   ]
  },
  {
   "cell_type": "code",
   "execution_count": 66,
   "metadata": {
    "colab": {
     "base_uri": "https://localhost:8080/",
     "height": 621
    },
    "id": "SoOGT4dUwh1C",
    "outputId": "8448d468-cb6c-4e25-9b0a-84d91a2c5f0b"
   },
   "outputs": [
    {
     "data": {
      "image/png": "[encoded data removed]",
      "text/plain": [
       "<Figure size 720x720 with 1 Axes>"
      ]
     },
     "metadata": {
      "needs_background": "light"
     },
     "output_type": "display_data"
    }
   ],
   "source": [
    "####### kmeans set up the clusterer, 4 expected clusters\n",
    "kmeans = cluster.KMeans(n_clusters=3)\n",
    "\n",
    "# extract columns for fitting\n",
    "kmeans.fit(GDP_import[['GDP growth (annual %)','Imports of goods and services (annual % growth)']])     \n",
    "\n",
    "# extract labels and cluster centres\n",
    "labels = kmeans.labels_\n",
    "cen = kmeans.cluster_centers_\n",
    "\n",
    "# plot using the labels to select colour\n",
    "plt.figure(figsize=(10,10))\n",
    "\n",
    "col = [\"blue\", \"red\", \"green\", \"magenta\", \"yellow\", \"red\"]\n",
    "for l in range(3):     # loop over the different labels\n",
    "    plt.plot(GDP_import['GDP growth (annual %)'][labels==l], GDP_import['Imports of goods and services (annual % growth)'][labels==l], \"o\", markersize=3, color=col[l])\n",
    "    \n",
    "# Center of the clusters\n",
    "for ic in range(3):\n",
    "    xc, yc = cen[ic,:]\n",
    "    plt.plot(xc, yc, \"dk\", markersize=10)\n",
    "\n",
    "plt.title(\"Kmeans Clustering\")    \n",
    "plt.xlabel(\"GDP growth (annual %)\")\n",
    "plt.ylabel(\"Imports of goods and services\")\n",
    "plt.show()"
   ]
  },
  {
   "cell_type": "markdown",
   "metadata": {
    "id": "FGZOp3YL3FRw"
   },
   "source": [
    "# Model Fitting\n",
    "  * Exponential model"
   ]
  },
  {
   "cell_type": "code",
   "execution_count": 83,
   "metadata": {
    "id": "_V9H4MnQ2v69"
   },
   "outputs": [],
   "source": [
    "# Define the exponential function and the logistics functions for fitting.\n",
    "\n",
    "def exp_fit(x,scale,growth,c):\n",
    "    # Computes exponential function with scale and growth as free parameters\n",
    "    f = scale * np.exp(growth * x) +c\n",
    "    \n",
    "    return f\n",
    "\n"
   ]
  },
  {
   "cell_type": "code",
   "execution_count": 86,
   "metadata": {
    "colab": {
     "base_uri": "https://localhost:8080/",
     "height": 295
    },
    "id": "rE-yt2f15nmN",
    "outputId": "6b6c9c73-8cb4-4394-a7cf-46a013e6eae7"
   },
   "outputs": [
    {
     "data": {
      "image/png": "[encoded data removed]",
      "text/plain": [
       "<Figure size 432x288 with 1 Axes>"
      ]
     },
     "metadata": {
      "needs_background": "light"
     },
     "output_type": "display_data"
    }
   ],
   "source": [
    "fit, c= opt.curve_fit(exp_fit,GDP_Export['Year'],GDP_Export['GDP growth (annual %)'], p0 = [0.005,0.03,5])   \n",
    "GDP_Export[\"Exponential\"] = exp_fit(GDP_Export[\"Year\"], *fit)\n",
    "\n",
    "plt.figure()\n",
    "plt.plot(GDP_Export[\"Year\"], GDP_Export[\"Exponential\"], label=\"fit\")\n",
    "\n",
    "plt.legend()\n",
    "plt.xlabel(\"year\")\n",
    "plt.ylabel(\"GDP\")\n",
    "plt.title(\"Exponential Function\")\n",
    "plt.show()\n"
   ]
  },
  {
   "cell_type": "code",
   "execution_count": 87,
   "metadata": {
    "colab": {
     "base_uri": "https://localhost:8080/",
     "height": 295
    },
    "id": "CSgfRNSU9ikS",
    "outputId": "37ac7e3d-f375-470b-fac8-d54de7dbbd5b"
   },
   "outputs": [
    {
     "data": {
      "image/png": "[encoded data removed]",
      "text/plain": [
       "<Figure size 432x288 with 1 Axes>"
      ]
     },
     "metadata": {
      "needs_background": "light"
     },
     "output_type": "display_data"
    }
   ],
   "source": [
    "fit, c= opt.curve_fit(exp_fit,GDP_Export['Year'],GDP_Export['Exports of goods and services (annual % growth)'], p0 = [0.005,0.03,5])   \n",
    "GDP_Export[\"Exponential\"] = exp_fit(GDP_Export[\"Year\"], *fit)\n",
    "plt.figure()\n",
    "plt.plot(GDP_Export[\"Year\"], GDP_Export[\"Exponential\"], label=\"fit\")\n",
    "\n",
    "plt.legend()\n",
    "plt.xlabel(\"year\")\n",
    "plt.ylabel(\"Exports\")\n",
    "plt.title(\"Exponential Function\")\n",
    "plt.show()\n"
   ]
  },
  {
   "cell_type": "code",
   "execution_count": 93,
   "metadata": {
    "colab": {
     "base_uri": "https://localhost:8080/",
     "height": 638
    },
    "id": "MH4dVDpI70cm",
    "outputId": "f5117b4c-4894-43d8-e26b-a7813a94529c"
   },
   "outputs": [
    {
     "name": "stdout",
     "output_type": "stream",
     "text": [
      "[inf inf inf]\n"
     ]
    },
    {
     "data": {
      "image/png": "[encoded data removed]",
      "text/plain": [
       "<Figure size 720x720 with 1 Axes>"
      ]
     },
     "metadata": {
      "needs_background": "light"
     },
     "output_type": "display_data"
    }
   ],
   "source": [
    "def err_ranges(x, func, param, sigma):\n",
    "    \"\"\"\n",
    "    Calculates the upper and lower limits for the function, This routine can be used in assignment programs.\n",
    "    \"\"\"\n",
    "\n",
    "    \n",
    "    # initiate arrays for lower and upper limits\n",
    "    lower = func(x, *param)\n",
    "    upper = lower\n",
    "    \n",
    "    uplow = []   # list to hold upper and lower limits for parameters\n",
    "    for p,s in zip(param, sigma):\n",
    "        pmin = p - s\n",
    "        pmax = p + s\n",
    "        uplow.append((pmin, pmax))\n",
    "        \n",
    "    pmix = list(iter.product(*uplow))\n",
    "    \n",
    "    for p in pmix:\n",
    "        y = func(x, *p)\n",
    "        lower = np.minimum(lower, y)\n",
    "        upper = np.maximum(upper, y)\n",
    "        \n",
    "    return lower, upper   \n",
    "\n",
    "# extract the sigmas from the diagonal of the covariance matrix\n",
    "sigma = np.sqrt(np.diag(c))\n",
    "print(sigma)\n",
    "\n",
    "low, up = err_ranges(GDP_Export[\"Year\"], exp_fit, fit, sigma)\n",
    "\n",
    "plt.figure(figsize=(10,10))\n",
    "plt.title(\"Exponential function\")\n",
    "plt.plot(GDP_Export[\"Year\"], GDP_Export[\"Exponential\"], label=\"fit\")\n",
    "\n",
    "plt.fill_between(GDP_Export[\"Year\"], low, up, alpha=0.7)\n",
    "plt.legend()\n",
    "plt.xlabel(\"year\")\n",
    "plt.ylabel(\"population\")\n",
    "plt.show()"
   ]
  },
  {
   "cell_type": "code",
   "execution_count": null,
   "metadata": {
    "id": "Exfo1pe3-lDT"
   },
   "outputs": [],
   "source": []
  }
 ],
 "metadata": {
  "accelerator": "GPU",
  "colab": {
   "name": "Assignment_03.ipynb",
   "provenance": []
  },
  "kernelspec": {
   "display_name": "Python 3 (ipykernel)",
   "language": "python",
   "name": "python3"
  },
  "language_info": {
   "codemirror_mode": {
    "name": "ipython",
    "version": 3
   },
   "file_extension": ".py",
   "mimetype": "text/x-python",
   "name": "python",
   "nbconvert_exporter": "python",
   "pygments_lexer": "ipython3",
   "version": "3.9.7"
  }
 },
 "nbformat": 4,
 "nbformat_minor": 1
}
